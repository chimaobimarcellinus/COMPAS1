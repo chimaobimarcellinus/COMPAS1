{
 "cells": [
  {
   "cell_type": "markdown",
   "id": "a3eb506b-c3c2-4fe1-8629-6d2a1f31d50f",
   "metadata": {},
   "source": [
    " COMPAS analysis project "
   ]
  },
  {
   "cell_type": "code",
   "execution_count": 1,
   "id": "c88cb84f-3336-498f-9bb3-32c1da5b692c",
   "metadata": {},
   "outputs": [],
   "source": [
    "import pandas as pd\n",
    "import numpy as np \n",
    "import matplotlib.pyplot as plt\n",
    "import seaborn as sns\n",
    "%matplotlib inline"
   ]
  },
  {
   "cell_type": "markdown",
   "id": "a0eb08fb-9556-488d-85d3-b4c399de0a69",
   "metadata": {},
   "source": [
    "### Importing the 3 COMPAS csv files "
   ]
  },
  {
   "cell_type": "code",
   "execution_count": 2,
   "id": "f6be6c03-9236-4118-9eb0-880211a53a9c",
   "metadata": {},
   "outputs": [],
   "source": [
    "compas_scores_raw = pd.read_csv('compas-scores-raw.csv')\n",
    "cox_violent_parsed = pd.read_csv(\"cox-violent-parsed.csv\")\n",
    "cox_violent_parsed_filt = pd.read_csv('cox-violent-parsed_filt.csv')"
   ]
  },
  {
   "cell_type": "markdown",
   "id": "8b7def00-ce48-4c93-88fe-befb33cb211b",
   "metadata": {},
   "source": [
    "viewing the shapes of each dataset "
   ]
  },
  {
   "cell_type": "code",
   "execution_count": 3,
   "id": "51f96a1d-c51a-4f56-8ff4-33f579342960",
   "metadata": {},
   "outputs": [
    {
     "name": "stdout",
     "output_type": "stream",
     "text": [
      "The shape compas_scores_raw data shape:  (60843, 28)\n",
      "cox_violent_parsed data shape is:  (18316, 52)\n",
      "cox_violent_parsed_filt shape is:   (18316, 40)\n"
     ]
    }
   ],
   "source": [
    "# print(compas_scores_raw.columns)\n",
    "# print(compas_scores_raw.info())\n",
    "print(\"The shape compas_scores_raw data shape: \", compas_scores_raw.shape)\n",
    "print (\"cox_violent_parsed data shape is: \", cox_violent_parsed.shape)\n",
    "print (\"cox_violent_parsed_filt shape is:  \", cox_violent_parsed_filt.shape)"
   ]
  },
  {
   "cell_type": "markdown",
   "id": "9728a230-784d-4f32-a734-7fb44aed992b",
   "metadata": {},
   "source": [
    "### From the 3 data csv files cox_violent_parsed_filt and cox_violent_parsed have the same number of rows but different numbers of columns so both data are relatively similar"
   ]
  },
  {
   "cell_type": "code",
   "execution_count": 4,
   "id": "5d53da78-285c-4199-9597-7448571d69d0",
   "metadata": {},
   "outputs": [
    {
     "data": {
      "text/plain": [
       "Index(['id', 'name', 'first', 'last', 'sex', 'dob', 'age', 'age_cat', 'race',\n",
       "       'juv_fel_count', 'decile_score', 'juv_misd_count', 'juv_other_count',\n",
       "       'priors_count', 'days_b_screening_arrest', 'c_jail_in', 'c_jail_out',\n",
       "       'c_days_from_compas', 'c_charge_degree', 'c_charge_desc', 'is_recid',\n",
       "       'r_charge_degree', 'r_days_from_arrest', 'r_offense_date',\n",
       "       'r_charge_desc', 'r_jail_in', 'violent_recid', 'is_violent_recid',\n",
       "       'vr_charge_degree', 'vr_offense_date', 'vr_charge_desc',\n",
       "       'type_of_assessment', 'decile_score.1', 'score_text', 'screening_date',\n",
       "       'v_type_of_assessment', 'v_decile_score', 'v_score_text',\n",
       "       'priors_count.1', 'event'],\n",
       "      dtype='object')"
      ]
     },
     "execution_count": 4,
     "metadata": {},
     "output_type": "execute_result"
    }
   ],
   "source": [
    "cox_violent_parsed_filt.columns"
   ]
  },
  {
   "cell_type": "code",
   "execution_count": 5,
   "id": "6753f7c6-3b08-49dd-971b-7f814d00645f",
   "metadata": {},
   "outputs": [
    {
     "data": {
      "text/plain": [
       "Index(['id', 'name', 'first', 'last', 'compas_screening_date', 'sex', 'dob',\n",
       "       'age', 'age_cat', 'race', 'juv_fel_count', 'decile_score',\n",
       "       'juv_misd_count', 'juv_other_count', 'priors_count',\n",
       "       'days_b_screening_arrest', 'c_jail_in', 'c_jail_out', 'c_case_number',\n",
       "       'c_offense_date', 'c_arrest_date', 'c_days_from_compas',\n",
       "       'c_charge_degree', 'c_charge_desc', 'is_recid', 'r_case_number',\n",
       "       'r_charge_degree', 'r_days_from_arrest', 'r_offense_date',\n",
       "       'r_charge_desc', 'r_jail_in', 'r_jail_out', 'violent_recid',\n",
       "       'is_violent_recid', 'vr_case_number', 'vr_charge_degree',\n",
       "       'vr_offense_date', 'vr_charge_desc', 'type_of_assessment',\n",
       "       'decile_score.1', 'score_text', 'screening_date',\n",
       "       'v_type_of_assessment', 'v_decile_score', 'v_score_text',\n",
       "       'v_screening_date', 'in_custody', 'out_custody', 'priors_count.1',\n",
       "       'start', 'end', 'event'],\n",
       "      dtype='object')"
      ]
     },
     "execution_count": 5,
     "metadata": {},
     "output_type": "execute_result"
    }
   ],
   "source": [
    "cox_violent_parsed.columns"
   ]
  },
  {
   "cell_type": "markdown",
   "id": "b0bfb6af-22db-44e6-8882-9dd4a6420771",
   "metadata": {},
   "source": [
    "## So i will toggling from spreedsheet and python during data cleaning\n",
    "Having said that, importing a copy of data from spreadsheet to clean\n",
    "\n",
    "importing the files and parseing datetime on columns with dates"
   ]
  },
  {
   "cell_type": "code",
   "execution_count": 6,
   "id": "f81f08ba-9645-4efb-856f-88b16ce1a413",
   "metadata": {},
   "outputs": [
    {
     "data": {
      "text/html": [
       "<div>\n",
       "<style scoped>\n",
       "    .dataframe tbody tr th:only-of-type {\n",
       "        vertical-align: middle;\n",
       "    }\n",
       "\n",
       "    .dataframe tbody tr th {\n",
       "        vertical-align: top;\n",
       "    }\n",
       "\n",
       "    .dataframe thead th {\n",
       "        text-align: right;\n",
       "    }\n",
       "</style>\n",
       "<table border=\"1\" class=\"dataframe\">\n",
       "  <thead>\n",
       "    <tr style=\"text-align: right;\">\n",
       "      <th></th>\n",
       "      <th>name</th>\n",
       "      <th>compas_screening_date</th>\n",
       "      <th>sex</th>\n",
       "      <th>dob</th>\n",
       "      <th>age</th>\n",
       "      <th>age_cat</th>\n",
       "      <th>race</th>\n",
       "      <th>juv_fel_count</th>\n",
       "      <th>decile_score</th>\n",
       "      <th>juv_misd_count</th>\n",
       "      <th>...</th>\n",
       "      <th>decile_score.1</th>\n",
       "      <th>score_text</th>\n",
       "      <th>v_type_of_assessment</th>\n",
       "      <th>v_decile_score</th>\n",
       "      <th>v_score_text</th>\n",
       "      <th>in_custody</th>\n",
       "      <th>out_custody</th>\n",
       "      <th>priors_count.1</th>\n",
       "      <th>start</th>\n",
       "      <th>end</th>\n",
       "    </tr>\n",
       "  </thead>\n",
       "  <tbody>\n",
       "    <tr>\n",
       "      <th>0</th>\n",
       "      <td>miguel hernandez</td>\n",
       "      <td>14/08/2013</td>\n",
       "      <td>Male</td>\n",
       "      <td>18/04/1947</td>\n",
       "      <td>69</td>\n",
       "      <td>Greater than 45</td>\n",
       "      <td>Other</td>\n",
       "      <td>0</td>\n",
       "      <td>1</td>\n",
       "      <td>0</td>\n",
       "      <td>...</td>\n",
       "      <td>1</td>\n",
       "      <td>Low</td>\n",
       "      <td>Risk of Violence</td>\n",
       "      <td>1</td>\n",
       "      <td>Low</td>\n",
       "      <td>2014-07-07</td>\n",
       "      <td>2014-07-14</td>\n",
       "      <td>0</td>\n",
       "      <td>0</td>\n",
       "      <td>327</td>\n",
       "    </tr>\n",
       "    <tr>\n",
       "      <th>1</th>\n",
       "      <td>miguel hernandez</td>\n",
       "      <td>14/08/2013</td>\n",
       "      <td>Male</td>\n",
       "      <td>18/04/1947</td>\n",
       "      <td>69</td>\n",
       "      <td>Greater than 45</td>\n",
       "      <td>Other</td>\n",
       "      <td>0</td>\n",
       "      <td>1</td>\n",
       "      <td>0</td>\n",
       "      <td>...</td>\n",
       "      <td>1</td>\n",
       "      <td>Low</td>\n",
       "      <td>Risk of Violence</td>\n",
       "      <td>1</td>\n",
       "      <td>Low</td>\n",
       "      <td>2014-07-07</td>\n",
       "      <td>2014-07-14</td>\n",
       "      <td>0</td>\n",
       "      <td>334</td>\n",
       "      <td>961</td>\n",
       "    </tr>\n",
       "    <tr>\n",
       "      <th>2</th>\n",
       "      <td>michael ryan</td>\n",
       "      <td>31/12/2014</td>\n",
       "      <td>Male</td>\n",
       "      <td>06/02/1985</td>\n",
       "      <td>31</td>\n",
       "      <td>25 - 45</td>\n",
       "      <td>Caucasian</td>\n",
       "      <td>0</td>\n",
       "      <td>5</td>\n",
       "      <td>0</td>\n",
       "      <td>...</td>\n",
       "      <td>5</td>\n",
       "      <td>Medium</td>\n",
       "      <td>Risk of Violence</td>\n",
       "      <td>2</td>\n",
       "      <td>Low</td>\n",
       "      <td>2014-12-30</td>\n",
       "      <td>2015-01-03</td>\n",
       "      <td>0</td>\n",
       "      <td>3</td>\n",
       "      <td>457</td>\n",
       "    </tr>\n",
       "    <tr>\n",
       "      <th>3</th>\n",
       "      <td>kevon dixon</td>\n",
       "      <td>27/01/2013</td>\n",
       "      <td>Male</td>\n",
       "      <td>22/01/1982</td>\n",
       "      <td>34</td>\n",
       "      <td>25 - 45</td>\n",
       "      <td>African-American</td>\n",
       "      <td>0</td>\n",
       "      <td>3</td>\n",
       "      <td>0</td>\n",
       "      <td>...</td>\n",
       "      <td>3</td>\n",
       "      <td>Low</td>\n",
       "      <td>Risk of Violence</td>\n",
       "      <td>1</td>\n",
       "      <td>Low</td>\n",
       "      <td>2013-01-26</td>\n",
       "      <td>2013-02-05</td>\n",
       "      <td>0</td>\n",
       "      <td>9</td>\n",
       "      <td>159</td>\n",
       "    </tr>\n",
       "    <tr>\n",
       "      <th>4</th>\n",
       "      <td>ed philo</td>\n",
       "      <td>14/04/2013</td>\n",
       "      <td>Male</td>\n",
       "      <td>14/05/1991</td>\n",
       "      <td>24</td>\n",
       "      <td>Less than 25</td>\n",
       "      <td>African-American</td>\n",
       "      <td>0</td>\n",
       "      <td>4</td>\n",
       "      <td>0</td>\n",
       "      <td>...</td>\n",
       "      <td>4</td>\n",
       "      <td>Low</td>\n",
       "      <td>Risk of Violence</td>\n",
       "      <td>3</td>\n",
       "      <td>Low</td>\n",
       "      <td>2013-06-16</td>\n",
       "      <td>2013-06-16</td>\n",
       "      <td>4</td>\n",
       "      <td>0</td>\n",
       "      <td>63</td>\n",
       "    </tr>\n",
       "  </tbody>\n",
       "</table>\n",
       "<p>5 rows × 34 columns</p>\n",
       "</div>"
      ],
      "text/plain": [
       "               name compas_screening_date   sex         dob  age  \\\n",
       "0  miguel hernandez            14/08/2013  Male  18/04/1947   69   \n",
       "1  miguel hernandez            14/08/2013  Male  18/04/1947   69   \n",
       "2      michael ryan            31/12/2014  Male  06/02/1985   31   \n",
       "3       kevon dixon            27/01/2013  Male  22/01/1982   34   \n",
       "4          ed philo            14/04/2013  Male  14/05/1991   24   \n",
       "\n",
       "           age_cat              race  juv_fel_count  decile_score  \\\n",
       "0  Greater than 45             Other              0             1   \n",
       "1  Greater than 45             Other              0             1   \n",
       "2          25 - 45         Caucasian              0             5   \n",
       "3          25 - 45  African-American              0             3   \n",
       "4     Less than 25  African-American              0             4   \n",
       "\n",
       "   juv_misd_count  ...  decile_score.1  score_text v_type_of_assessment  \\\n",
       "0               0  ...               1         Low     Risk of Violence   \n",
       "1               0  ...               1         Low     Risk of Violence   \n",
       "2               0  ...               5      Medium     Risk of Violence   \n",
       "3               0  ...               3         Low     Risk of Violence   \n",
       "4               0  ...               4         Low     Risk of Violence   \n",
       "\n",
       "  v_decile_score  v_score_text in_custody out_custody  priors_count.1 start  \\\n",
       "0              1           Low 2014-07-07  2014-07-14               0     0   \n",
       "1              1           Low 2014-07-07  2014-07-14               0   334   \n",
       "2              2           Low 2014-12-30  2015-01-03               0     3   \n",
       "3              1           Low 2013-01-26  2013-02-05               0     9   \n",
       "4              3           Low 2013-06-16  2013-06-16               4     0   \n",
       "\n",
       "   end  \n",
       "0  327  \n",
       "1  961  \n",
       "2  457  \n",
       "3  159  \n",
       "4   63  \n",
       "\n",
       "[5 rows x 34 columns]"
      ]
     },
     "execution_count": 6,
     "metadata": {},
     "output_type": "execute_result"
    }
   ],
   "source": [
    "df = pd.read_csv(\"Copy of cox-violent-parsed - cox-violent-parsed.csv\",\n",
    "                parse_dates = ['c_jail_in', 'c_jail_out', 'in_custody', 'out_custody'], dayfirst = True)\n",
    "df.head()"
   ]
  },
  {
   "cell_type": "code",
   "execution_count": 7,
   "id": "5328ef65-1772-4a95-a446-d5c815352dae",
   "metadata": {},
   "outputs": [
    {
     "name": "stdout",
     "output_type": "stream",
     "text": [
      "<class 'pandas.core.frame.DataFrame'>\n",
      "RangeIndex: 18316 entries, 0 to 18315\n",
      "Data columns (total 34 columns):\n",
      " #   Column                 Non-Null Count  Dtype         \n",
      "---  ------                 --------------  -----         \n",
      " 0   name                   18316 non-null  object        \n",
      " 1   compas_screening_date  18316 non-null  object        \n",
      " 2   sex                    18316 non-null  object        \n",
      " 3   dob                    18316 non-null  object        \n",
      " 4   age                    18316 non-null  int64         \n",
      " 5   age_cat                18316 non-null  object        \n",
      " 6   race                   18316 non-null  object        \n",
      " 7   juv_fel_count          18316 non-null  int64         \n",
      " 8   decile_score           18316 non-null  int64         \n",
      " 9   juv_misd_count         18316 non-null  int64         \n",
      " 10  juv_other_count        18316 non-null  int64         \n",
      " 11  priors_count           18316 non-null  int64         \n",
      " 12  c_jail_in              17019 non-null  datetime64[ns]\n",
      " 13  c_jail_out             17019 non-null  datetime64[ns]\n",
      " 14  c_days_from_compas     17449 non-null  float64       \n",
      " 15  c_charge_degree        17449 non-null  object        \n",
      " 16  c_charge_desc          17435 non-null  object        \n",
      " 17  is_recid               18316 non-null  int64         \n",
      " 18  r_charge_degree        8417 non-null   object        \n",
      " 19  r_days_from_arrest     6359 non-null   float64       \n",
      " 20  r_charge_desc          8277 non-null   object        \n",
      " 21  is_violent_recid       18316 non-null  int64         \n",
      " 22  vr_charge_desc         1339 non-null   object        \n",
      " 23  type_of_assessment     18316 non-null  object        \n",
      " 24  decile_score.1         18316 non-null  int64         \n",
      " 25  score_text             18293 non-null  object        \n",
      " 26  v_type_of_assessment   18316 non-null  object        \n",
      " 27  v_decile_score         18316 non-null  int64         \n",
      " 28  v_score_text           18310 non-null  object        \n",
      " 29  in_custody             17722 non-null  datetime64[ns]\n",
      " 30  out_custody            17722 non-null  datetime64[ns]\n",
      " 31  priors_count.1         18316 non-null  int64         \n",
      " 32  start                  18316 non-null  int64         \n",
      " 33  end                    18316 non-null  int64         \n",
      "dtypes: datetime64[ns](4), float64(2), int64(13), object(15)\n",
      "memory usage: 4.8+ MB\n"
     ]
    }
   ],
   "source": [
    "df.info()"
   ]
  },
  {
   "cell_type": "markdown",
   "id": "05c23200-c34a-4471-b64c-17841c3d6bbd",
   "metadata": {},
   "source": [
    "#### creating a new column that has the number of days spent in jail by checking the differences"
   ]
  },
  {
   "cell_type": "code",
   "execution_count": 8,
   "id": "76298d37-e42a-4182-9ecb-bcc62db3bb5e",
   "metadata": {},
   "outputs": [
    {
     "data": {
      "text/plain": [
       "0        0 days 23:38:00\n",
       "1        0 days 23:38:00\n",
       "2                    NaT\n",
       "3       10 days 01:51:00\n",
       "4        1 days 02:04:00\n",
       "              ...       \n",
       "18311   10 days 01:28:00\n",
       "18312    1 days 02:01:00\n",
       "18313    1 days 04:12:00\n",
       "18314    1 days 23:03:00\n",
       "18315    1 days 23:03:00\n",
       "Name: jail_time, Length: 18316, dtype: timedelta64[ns]"
      ]
     },
     "execution_count": 8,
     "metadata": {},
     "output_type": "execute_result"
    }
   ],
   "source": [
    "# creating new column named \"jail_time\"\n",
    "# jail time is  the number of days spent in jail.\n",
    "# formula: c_jail_out - c_jail_in\n",
    "\n",
    "df[\"jail_time\"] = df.c_jail_out - df.c_jail_in\n",
    "df.jail_time"
   ]
  },
  {
   "cell_type": "code",
   "execution_count": 9,
   "id": "24f93036-ce64-4a78-a71f-e1263692d0ea",
   "metadata": {},
   "outputs": [
    {
     "data": {
      "text/plain": [
       "0        7 days\n",
       "1        7 days\n",
       "2        4 days\n",
       "3       10 days\n",
       "4        0 days\n",
       "          ...  \n",
       "18311   10 days\n",
       "18312    1 days\n",
       "18313    1 days\n",
       "18314    0 days\n",
       "18315    0 days\n",
       "Name: custody_time, Length: 18316, dtype: timedelta64[ns]"
      ]
     },
     "execution_count": 9,
     "metadata": {},
     "output_type": "execute_result"
    }
   ],
   "source": [
    "# creating new column named \"custody_time\"\n",
    "# jail time is  the number of days spent in jail.\n",
    "# formula: out_custody - in_custody\n",
    "\n",
    "\n",
    "df[\"custody_time\"] = df.out_custody - df.in_custody\n",
    "df.custody_time"
   ]
  },
  {
   "cell_type": "code",
   "execution_count": null,
   "id": "ba511225-adc4-4be3-8849-e155f249399f",
   "metadata": {},
   "outputs": [],
   "source": []
  },
  {
   "cell_type": "code",
   "execution_count": 10,
   "id": "b58094cb-a6df-482d-bff4-d07248908f0d",
   "metadata": {},
   "outputs": [
    {
     "name": "stdout",
     "output_type": "stream",
     "text": [
      "<class 'pandas.core.frame.DataFrame'>\n",
      "RangeIndex: 18316 entries, 0 to 18315\n",
      "Data columns (total 36 columns):\n",
      " #   Column                 Non-Null Count  Dtype          \n",
      "---  ------                 --------------  -----          \n",
      " 0   name                   18316 non-null  object         \n",
      " 1   compas_screening_date  18316 non-null  object         \n",
      " 2   sex                    18316 non-null  object         \n",
      " 3   dob                    18316 non-null  object         \n",
      " 4   age                    18316 non-null  int64          \n",
      " 5   age_cat                18316 non-null  object         \n",
      " 6   race                   18316 non-null  object         \n",
      " 7   juv_fel_count          18316 non-null  int64          \n",
      " 8   decile_score           18316 non-null  int64          \n",
      " 9   juv_misd_count         18316 non-null  int64          \n",
      " 10  juv_other_count        18316 non-null  int64          \n",
      " 11  priors_count           18316 non-null  int64          \n",
      " 12  c_jail_in              17019 non-null  datetime64[ns] \n",
      " 13  c_jail_out             17019 non-null  datetime64[ns] \n",
      " 14  c_days_from_compas     17449 non-null  float64        \n",
      " 15  c_charge_degree        17449 non-null  object         \n",
      " 16  c_charge_desc          17435 non-null  object         \n",
      " 17  is_recid               18316 non-null  int64          \n",
      " 18  r_charge_degree        8417 non-null   object         \n",
      " 19  r_days_from_arrest     6359 non-null   float64        \n",
      " 20  r_charge_desc          8277 non-null   object         \n",
      " 21  is_violent_recid       18316 non-null  int64          \n",
      " 22  vr_charge_desc         1339 non-null   object         \n",
      " 23  type_of_assessment     18316 non-null  object         \n",
      " 24  decile_score.1         18316 non-null  int64          \n",
      " 25  score_text             18293 non-null  object         \n",
      " 26  v_type_of_assessment   18316 non-null  object         \n",
      " 27  v_decile_score         18316 non-null  int64          \n",
      " 28  v_score_text           18310 non-null  object         \n",
      " 29  in_custody             17722 non-null  datetime64[ns] \n",
      " 30  out_custody            17722 non-null  datetime64[ns] \n",
      " 31  priors_count.1         18316 non-null  int64          \n",
      " 32  start                  18316 non-null  int64          \n",
      " 33  end                    18316 non-null  int64          \n",
      " 34  jail_time              17019 non-null  timedelta64[ns]\n",
      " 35  custody_time           17722 non-null  timedelta64[ns]\n",
      "dtypes: datetime64[ns](4), float64(2), int64(13), object(15), timedelta64[ns](2)\n",
      "memory usage: 5.0+ MB\n"
     ]
    }
   ],
   "source": [
    "df.info()"
   ]
  },
  {
   "cell_type": "markdown",
   "id": "b62b4dfe-4c48-4d2f-aa7f-20cbd52906b2",
   "metadata": {},
   "source": [
    "## Removing duplicated names (leaving only the first name that appeared in the row\n",
    "\n",
    "NB: the first name will be left"
   ]
  },
  {
   "cell_type": "code",
   "execution_count": 11,
   "id": "d1ec00bf-ca5e-4b9a-a5c8-36e11c8c8bed",
   "metadata": {},
   "outputs": [
    {
     "name": "stdout",
     "output_type": "stream",
     "text": [
      "<class 'pandas.core.frame.DataFrame'>\n",
      "Index: 10855 entries, 0 to 18314\n",
      "Data columns (total 36 columns):\n",
      " #   Column                 Non-Null Count  Dtype          \n",
      "---  ------                 --------------  -----          \n",
      " 0   name                   10855 non-null  object         \n",
      " 1   compas_screening_date  10855 non-null  object         \n",
      " 2   sex                    10855 non-null  object         \n",
      " 3   dob                    10855 non-null  object         \n",
      " 4   age                    10855 non-null  int64          \n",
      " 5   age_cat                10855 non-null  object         \n",
      " 6   race                   10855 non-null  object         \n",
      " 7   juv_fel_count          10855 non-null  int64          \n",
      " 8   decile_score           10855 non-null  int64          \n",
      " 9   juv_misd_count         10855 non-null  int64          \n",
      " 10  juv_other_count        10855 non-null  int64          \n",
      " 11  priors_count           10855 non-null  int64          \n",
      " 12  c_jail_in              9781 non-null   datetime64[ns] \n",
      " 13  c_jail_out             9781 non-null   datetime64[ns] \n",
      " 14  c_days_from_compas     10185 non-null  float64        \n",
      " 15  c_charge_degree        10185 non-null  object         \n",
      " 16  c_charge_desc          10178 non-null  object         \n",
      " 17  is_recid               10855 non-null  int64          \n",
      " 18  r_charge_degree        3425 non-null   object         \n",
      " 19  r_days_from_arrest     2281 non-null   float64        \n",
      " 20  r_charge_desc          3368 non-null   object         \n",
      " 21  is_violent_recid       10855 non-null  int64          \n",
      " 22  vr_charge_desc         809 non-null    object         \n",
      " 23  type_of_assessment     10855 non-null  object         \n",
      " 24  decile_score.1         10855 non-null  int64          \n",
      " 25  score_text             10841 non-null  object         \n",
      " 26  v_type_of_assessment   10855 non-null  object         \n",
      " 27  v_decile_score         10855 non-null  int64          \n",
      " 28  v_score_text           10850 non-null  object         \n",
      " 29  in_custody             10269 non-null  datetime64[ns] \n",
      " 30  out_custody            10269 non-null  datetime64[ns] \n",
      " 31  priors_count.1         10855 non-null  int64          \n",
      " 32  start                  10855 non-null  int64          \n",
      " 33  end                    10855 non-null  int64          \n",
      " 34  jail_time              9781 non-null   timedelta64[ns]\n",
      " 35  custody_time           10269 non-null  timedelta64[ns]\n",
      "dtypes: datetime64[ns](4), float64(2), int64(13), object(15), timedelta64[ns](2)\n",
      "memory usage: 3.1+ MB\n"
     ]
    }
   ],
   "source": [
    "df_unique_name = df.drop_duplicates(subset = [\"name\"], keep = \"first\")\n",
    "df_unique_name.info()"
   ]
  },
  {
   "cell_type": "markdown",
   "id": "38b497c4-194e-48d4-b8fe-aca8051c8fef",
   "metadata": {},
   "source": [
    "#### \"is_ricid\" column is a binary column that accepts only  1 or 0. It is observed that \"-1\" indicates that jail time is missing .\n",
    "\n",
    "removing the rows that have recid = \"-1\""
   ]
  },
  {
   "cell_type": "code",
   "execution_count": 12,
   "id": "6eab6dee-bdd8-4a58-8bb3-f4dbae198f18",
   "metadata": {},
   "outputs": [
    {
     "name": "stdout",
     "output_type": "stream",
     "text": [
      "<class 'pandas.core.frame.DataFrame'>\n",
      "Index: 10207 entries, 0 to 18314\n",
      "Data columns (total 36 columns):\n",
      " #   Column                 Non-Null Count  Dtype          \n",
      "---  ------                 --------------  -----          \n",
      " 0   name                   10207 non-null  object         \n",
      " 1   compas_screening_date  10207 non-null  object         \n",
      " 2   sex                    10207 non-null  object         \n",
      " 3   dob                    10207 non-null  object         \n",
      " 4   age                    10207 non-null  int64          \n",
      " 5   age_cat                10207 non-null  object         \n",
      " 6   race                   10207 non-null  object         \n",
      " 7   juv_fel_count          10207 non-null  int64          \n",
      " 8   decile_score           10207 non-null  int64          \n",
      " 9   juv_misd_count         10207 non-null  int64          \n",
      " 10  juv_other_count        10207 non-null  int64          \n",
      " 11  priors_count           10207 non-null  int64          \n",
      " 12  c_jail_in              9780 non-null   datetime64[ns] \n",
      " 13  c_jail_out             9780 non-null   datetime64[ns] \n",
      " 14  c_days_from_compas     10184 non-null  float64        \n",
      " 15  c_charge_degree        10184 non-null  object         \n",
      " 16  c_charge_desc          10177 non-null  object         \n",
      " 17  is_recid               10207 non-null  int64          \n",
      " 18  r_charge_degree        3425 non-null   object         \n",
      " 19  r_days_from_arrest     2281 non-null   float64        \n",
      " 20  r_charge_desc          3368 non-null   object         \n",
      " 21  is_violent_recid       10207 non-null  int64          \n",
      " 22  vr_charge_desc         809 non-null    object         \n",
      " 23  type_of_assessment     10207 non-null  object         \n",
      " 24  decile_score.1         10207 non-null  int64          \n",
      " 25  score_text             10196 non-null  object         \n",
      " 26  v_type_of_assessment   10207 non-null  object         \n",
      " 27  v_decile_score         10207 non-null  int64          \n",
      " 28  v_score_text           10203 non-null  object         \n",
      " 29  in_custody             9883 non-null   datetime64[ns] \n",
      " 30  out_custody            9883 non-null   datetime64[ns] \n",
      " 31  priors_count.1         10207 non-null  int64          \n",
      " 32  start                  10207 non-null  int64          \n",
      " 33  end                    10207 non-null  int64          \n",
      " 34  jail_time              9780 non-null   timedelta64[ns]\n",
      " 35  custody_time           9883 non-null   timedelta64[ns]\n",
      "dtypes: datetime64[ns](4), float64(2), int64(13), object(15), timedelta64[ns](2)\n",
      "memory usage: 2.9+ MB\n"
     ]
    }
   ],
   "source": [
    "df_unique_name = df_unique_name[df_unique_name['is_recid'] > -1]\n",
    "df_unique_name.info()"
   ]
  },
  {
   "cell_type": "markdown",
   "id": "26507f89-b2fe-4f3d-af52-7602d7648386",
   "metadata": {},
   "source": [
    "#### \"decile_score\" ranges from 1 to 10. score les than 0 should be removed"
   ]
  },
  {
   "cell_type": "code",
   "execution_count": 13,
   "id": "eeabc1a9-f827-4415-99ac-966c9ca56795",
   "metadata": {},
   "outputs": [
    {
     "name": "stdout",
     "output_type": "stream",
     "text": [
      "<class 'pandas.core.frame.DataFrame'>\n",
      "Index: 10196 entries, 0 to 18314\n",
      "Data columns (total 36 columns):\n",
      " #   Column                 Non-Null Count  Dtype          \n",
      "---  ------                 --------------  -----          \n",
      " 0   name                   10196 non-null  object         \n",
      " 1   compas_screening_date  10196 non-null  object         \n",
      " 2   sex                    10196 non-null  object         \n",
      " 3   dob                    10196 non-null  object         \n",
      " 4   age                    10196 non-null  int64          \n",
      " 5   age_cat                10196 non-null  object         \n",
      " 6   race                   10196 non-null  object         \n",
      " 7   juv_fel_count          10196 non-null  int64          \n",
      " 8   decile_score           10196 non-null  int64          \n",
      " 9   juv_misd_count         10196 non-null  int64          \n",
      " 10  juv_other_count        10196 non-null  int64          \n",
      " 11  priors_count           10196 non-null  int64          \n",
      " 12  c_jail_in              9771 non-null   datetime64[ns] \n",
      " 13  c_jail_out             9771 non-null   datetime64[ns] \n",
      " 14  c_days_from_compas     10173 non-null  float64        \n",
      " 15  c_charge_degree        10173 non-null  object         \n",
      " 16  c_charge_desc          10166 non-null  object         \n",
      " 17  is_recid               10196 non-null  int64          \n",
      " 18  r_charge_degree        3423 non-null   object         \n",
      " 19  r_days_from_arrest     2280 non-null   float64        \n",
      " 20  r_charge_desc          3366 non-null   object         \n",
      " 21  is_violent_recid       10196 non-null  int64          \n",
      " 22  vr_charge_desc         809 non-null    object         \n",
      " 23  type_of_assessment     10196 non-null  object         \n",
      " 24  decile_score.1         10196 non-null  int64          \n",
      " 25  score_text             10196 non-null  object         \n",
      " 26  v_type_of_assessment   10196 non-null  object         \n",
      " 27  v_decile_score         10196 non-null  int64          \n",
      " 28  v_score_text           10196 non-null  object         \n",
      " 29  in_custody             9874 non-null   datetime64[ns] \n",
      " 30  out_custody            9874 non-null   datetime64[ns] \n",
      " 31  priors_count.1         10196 non-null  int64          \n",
      " 32  start                  10196 non-null  int64          \n",
      " 33  end                    10196 non-null  int64          \n",
      " 34  jail_time              9771 non-null   timedelta64[ns]\n",
      " 35  custody_time           9874 non-null   timedelta64[ns]\n",
      "dtypes: datetime64[ns](4), float64(2), int64(13), object(15), timedelta64[ns](2)\n",
      "memory usage: 2.9+ MB\n"
     ]
    }
   ],
   "source": [
    "# removing decile_score less than 1\n",
    "df_unique_name = df_unique_name[df_unique_name['decile_score'] > 0]\n",
    "df_unique_name.info()"
   ]
  },
  {
   "cell_type": "code",
   "execution_count": null,
   "id": "b2ba6204-6722-40e3-abd9-cb1dfce3f7cb",
   "metadata": {},
   "outputs": [],
   "source": []
  },
  {
   "cell_type": "code",
   "execution_count": 14,
   "id": "ec07a7cc-787f-407b-a5d3-88b6436ec084",
   "metadata": {},
   "outputs": [
    {
     "data": {
      "text/html": [
       "<div>\n",
       "<style scoped>\n",
       "    .dataframe tbody tr th:only-of-type {\n",
       "        vertical-align: middle;\n",
       "    }\n",
       "\n",
       "    .dataframe tbody tr th {\n",
       "        vertical-align: top;\n",
       "    }\n",
       "\n",
       "    .dataframe thead th {\n",
       "        text-align: right;\n",
       "    }\n",
       "</style>\n",
       "<table border=\"1\" class=\"dataframe\">\n",
       "  <thead>\n",
       "    <tr style=\"text-align: right;\">\n",
       "      <th></th>\n",
       "      <th>0</th>\n",
       "      <th>3</th>\n",
       "      <th>4</th>\n",
       "      <th>9</th>\n",
       "      <th>10</th>\n",
       "    </tr>\n",
       "  </thead>\n",
       "  <tbody>\n",
       "    <tr>\n",
       "      <th>name</th>\n",
       "      <td>miguel hernandez</td>\n",
       "      <td>kevon dixon</td>\n",
       "      <td>ed philo</td>\n",
       "      <td>marcu brown</td>\n",
       "      <td>bouthy pierrelouis</td>\n",
       "    </tr>\n",
       "    <tr>\n",
       "      <th>compas_screening_date</th>\n",
       "      <td>14/08/2013</td>\n",
       "      <td>27/01/2013</td>\n",
       "      <td>14/04/2013</td>\n",
       "      <td>13/01/2013</td>\n",
       "      <td>26/03/2013</td>\n",
       "    </tr>\n",
       "    <tr>\n",
       "      <th>sex</th>\n",
       "      <td>Male</td>\n",
       "      <td>Male</td>\n",
       "      <td>Male</td>\n",
       "      <td>Male</td>\n",
       "      <td>Male</td>\n",
       "    </tr>\n",
       "    <tr>\n",
       "      <th>dob</th>\n",
       "      <td>18/04/1947</td>\n",
       "      <td>22/01/1982</td>\n",
       "      <td>14/05/1991</td>\n",
       "      <td>21/01/1993</td>\n",
       "      <td>22/01/1973</td>\n",
       "    </tr>\n",
       "    <tr>\n",
       "      <th>age</th>\n",
       "      <td>69</td>\n",
       "      <td>34</td>\n",
       "      <td>24</td>\n",
       "      <td>23</td>\n",
       "      <td>43</td>\n",
       "    </tr>\n",
       "    <tr>\n",
       "      <th>age_cat</th>\n",
       "      <td>Greater than 45</td>\n",
       "      <td>25 - 45</td>\n",
       "      <td>Less than 25</td>\n",
       "      <td>Less than 25</td>\n",
       "      <td>25 - 45</td>\n",
       "    </tr>\n",
       "    <tr>\n",
       "      <th>race</th>\n",
       "      <td>Other</td>\n",
       "      <td>African-American</td>\n",
       "      <td>African-American</td>\n",
       "      <td>African-American</td>\n",
       "      <td>Other</td>\n",
       "    </tr>\n",
       "    <tr>\n",
       "      <th>juv_fel_count</th>\n",
       "      <td>0</td>\n",
       "      <td>0</td>\n",
       "      <td>0</td>\n",
       "      <td>0</td>\n",
       "      <td>0</td>\n",
       "    </tr>\n",
       "    <tr>\n",
       "      <th>decile_score</th>\n",
       "      <td>1</td>\n",
       "      <td>3</td>\n",
       "      <td>4</td>\n",
       "      <td>8</td>\n",
       "      <td>1</td>\n",
       "    </tr>\n",
       "    <tr>\n",
       "      <th>juv_misd_count</th>\n",
       "      <td>0</td>\n",
       "      <td>0</td>\n",
       "      <td>0</td>\n",
       "      <td>1</td>\n",
       "      <td>0</td>\n",
       "    </tr>\n",
       "    <tr>\n",
       "      <th>juv_other_count</th>\n",
       "      <td>0</td>\n",
       "      <td>0</td>\n",
       "      <td>1</td>\n",
       "      <td>0</td>\n",
       "      <td>0</td>\n",
       "    </tr>\n",
       "    <tr>\n",
       "      <th>priors_count</th>\n",
       "      <td>0</td>\n",
       "      <td>0</td>\n",
       "      <td>4</td>\n",
       "      <td>1</td>\n",
       "      <td>2</td>\n",
       "    </tr>\n",
       "    <tr>\n",
       "      <th>c_jail_in</th>\n",
       "      <td>2013-08-13 06:03:00</td>\n",
       "      <td>2013-01-26 03:45:00</td>\n",
       "      <td>2013-04-13 04:58:00</td>\n",
       "      <td>NaT</td>\n",
       "      <td>NaT</td>\n",
       "    </tr>\n",
       "    <tr>\n",
       "      <th>c_jail_out</th>\n",
       "      <td>2013-08-14 05:41:00</td>\n",
       "      <td>2013-02-05 05:36:00</td>\n",
       "      <td>2013-04-14 07:02:00</td>\n",
       "      <td>NaT</td>\n",
       "      <td>NaT</td>\n",
       "    </tr>\n",
       "    <tr>\n",
       "      <th>c_days_from_compas</th>\n",
       "      <td>1.0</td>\n",
       "      <td>1.0</td>\n",
       "      <td>1.0</td>\n",
       "      <td>1.0</td>\n",
       "      <td>76.0</td>\n",
       "    </tr>\n",
       "    <tr>\n",
       "      <th>c_charge_degree</th>\n",
       "      <td>(F3)</td>\n",
       "      <td>(F3)</td>\n",
       "      <td>(F3)</td>\n",
       "      <td>(F3)</td>\n",
       "      <td>(F7)</td>\n",
       "    </tr>\n",
       "    <tr>\n",
       "      <th>c_charge_desc</th>\n",
       "      <td>Aggravated Assault w/Firearm</td>\n",
       "      <td>Felony Battery w/Prior Convict</td>\n",
       "      <td>Possession of Cocaine</td>\n",
       "      <td>Possession of Cannabis</td>\n",
       "      <td>arrest case no charge</td>\n",
       "    </tr>\n",
       "    <tr>\n",
       "      <th>is_recid</th>\n",
       "      <td>0</td>\n",
       "      <td>1</td>\n",
       "      <td>1</td>\n",
       "      <td>0</td>\n",
       "      <td>0</td>\n",
       "    </tr>\n",
       "    <tr>\n",
       "      <th>r_charge_degree</th>\n",
       "      <td>NaN</td>\n",
       "      <td>(F3)</td>\n",
       "      <td>(M1)</td>\n",
       "      <td>NaN</td>\n",
       "      <td>NaN</td>\n",
       "    </tr>\n",
       "    <tr>\n",
       "      <th>r_days_from_arrest</th>\n",
       "      <td>NaN</td>\n",
       "      <td>NaN</td>\n",
       "      <td>0.0</td>\n",
       "      <td>NaN</td>\n",
       "      <td>NaN</td>\n",
       "    </tr>\n",
       "    <tr>\n",
       "      <th>r_charge_desc</th>\n",
       "      <td>NaN</td>\n",
       "      <td>Felony Battery (Dom Strang)</td>\n",
       "      <td>Driving Under The Influence</td>\n",
       "      <td>NaN</td>\n",
       "      <td>NaN</td>\n",
       "    </tr>\n",
       "    <tr>\n",
       "      <th>is_violent_recid</th>\n",
       "      <td>0</td>\n",
       "      <td>1</td>\n",
       "      <td>0</td>\n",
       "      <td>0</td>\n",
       "      <td>0</td>\n",
       "    </tr>\n",
       "    <tr>\n",
       "      <th>vr_charge_desc</th>\n",
       "      <td>NaN</td>\n",
       "      <td>Felony Battery (Dom Strang)</td>\n",
       "      <td>NaN</td>\n",
       "      <td>NaN</td>\n",
       "      <td>NaN</td>\n",
       "    </tr>\n",
       "    <tr>\n",
       "      <th>type_of_assessment</th>\n",
       "      <td>Risk of Recidivism</td>\n",
       "      <td>Risk of Recidivism</td>\n",
       "      <td>Risk of Recidivism</td>\n",
       "      <td>Risk of Recidivism</td>\n",
       "      <td>Risk of Recidivism</td>\n",
       "    </tr>\n",
       "    <tr>\n",
       "      <th>decile_score.1</th>\n",
       "      <td>1</td>\n",
       "      <td>3</td>\n",
       "      <td>4</td>\n",
       "      <td>8</td>\n",
       "      <td>1</td>\n",
       "    </tr>\n",
       "    <tr>\n",
       "      <th>score_text</th>\n",
       "      <td>Low</td>\n",
       "      <td>Low</td>\n",
       "      <td>Low</td>\n",
       "      <td>High</td>\n",
       "      <td>Low</td>\n",
       "    </tr>\n",
       "    <tr>\n",
       "      <th>v_type_of_assessment</th>\n",
       "      <td>Risk of Violence</td>\n",
       "      <td>Risk of Violence</td>\n",
       "      <td>Risk of Violence</td>\n",
       "      <td>Risk of Violence</td>\n",
       "      <td>Risk of Violence</td>\n",
       "    </tr>\n",
       "    <tr>\n",
       "      <th>v_decile_score</th>\n",
       "      <td>1</td>\n",
       "      <td>1</td>\n",
       "      <td>3</td>\n",
       "      <td>6</td>\n",
       "      <td>1</td>\n",
       "    </tr>\n",
       "    <tr>\n",
       "      <th>v_score_text</th>\n",
       "      <td>Low</td>\n",
       "      <td>Low</td>\n",
       "      <td>Low</td>\n",
       "      <td>Medium</td>\n",
       "      <td>Low</td>\n",
       "    </tr>\n",
       "    <tr>\n",
       "      <th>in_custody</th>\n",
       "      <td>2014-07-07 00:00:00</td>\n",
       "      <td>2013-01-26 00:00:00</td>\n",
       "      <td>2013-06-16 00:00:00</td>\n",
       "      <td>NaT</td>\n",
       "      <td>NaT</td>\n",
       "    </tr>\n",
       "    <tr>\n",
       "      <th>out_custody</th>\n",
       "      <td>2014-07-14 00:00:00</td>\n",
       "      <td>2013-02-05 00:00:00</td>\n",
       "      <td>2013-06-16 00:00:00</td>\n",
       "      <td>NaT</td>\n",
       "      <td>NaT</td>\n",
       "    </tr>\n",
       "    <tr>\n",
       "      <th>priors_count.1</th>\n",
       "      <td>0</td>\n",
       "      <td>0</td>\n",
       "      <td>4</td>\n",
       "      <td>1</td>\n",
       "      <td>2</td>\n",
       "    </tr>\n",
       "    <tr>\n",
       "      <th>start</th>\n",
       "      <td>0</td>\n",
       "      <td>9</td>\n",
       "      <td>0</td>\n",
       "      <td>0</td>\n",
       "      <td>0</td>\n",
       "    </tr>\n",
       "    <tr>\n",
       "      <th>end</th>\n",
       "      <td>327</td>\n",
       "      <td>159</td>\n",
       "      <td>63</td>\n",
       "      <td>1174</td>\n",
       "      <td>1102</td>\n",
       "    </tr>\n",
       "    <tr>\n",
       "      <th>jail_time</th>\n",
       "      <td>0 days 23:38:00</td>\n",
       "      <td>10 days 01:51:00</td>\n",
       "      <td>1 days 02:04:00</td>\n",
       "      <td>NaT</td>\n",
       "      <td>NaT</td>\n",
       "    </tr>\n",
       "    <tr>\n",
       "      <th>custody_time</th>\n",
       "      <td>7 days 00:00:00</td>\n",
       "      <td>10 days 00:00:00</td>\n",
       "      <td>0 days 00:00:00</td>\n",
       "      <td>NaT</td>\n",
       "      <td>NaT</td>\n",
       "    </tr>\n",
       "  </tbody>\n",
       "</table>\n",
       "</div>"
      ],
      "text/plain": [
       "                                                 0   \\\n",
       "name                               miguel hernandez   \n",
       "compas_screening_date                    14/08/2013   \n",
       "sex                                            Male   \n",
       "dob                                      18/04/1947   \n",
       "age                                              69   \n",
       "age_cat                             Greater than 45   \n",
       "race                                          Other   \n",
       "juv_fel_count                                     0   \n",
       "decile_score                                      1   \n",
       "juv_misd_count                                    0   \n",
       "juv_other_count                                   0   \n",
       "priors_count                                      0   \n",
       "c_jail_in                       2013-08-13 06:03:00   \n",
       "c_jail_out                      2013-08-14 05:41:00   \n",
       "c_days_from_compas                              1.0   \n",
       "c_charge_degree                                (F3)   \n",
       "c_charge_desc          Aggravated Assault w/Firearm   \n",
       "is_recid                                          0   \n",
       "r_charge_degree                                 NaN   \n",
       "r_days_from_arrest                              NaN   \n",
       "r_charge_desc                                   NaN   \n",
       "is_violent_recid                                  0   \n",
       "vr_charge_desc                                  NaN   \n",
       "type_of_assessment               Risk of Recidivism   \n",
       "decile_score.1                                    1   \n",
       "score_text                                      Low   \n",
       "v_type_of_assessment               Risk of Violence   \n",
       "v_decile_score                                    1   \n",
       "v_score_text                                    Low   \n",
       "in_custody                      2014-07-07 00:00:00   \n",
       "out_custody                     2014-07-14 00:00:00   \n",
       "priors_count.1                                    0   \n",
       "start                                             0   \n",
       "end                                             327   \n",
       "jail_time                           0 days 23:38:00   \n",
       "custody_time                        7 days 00:00:00   \n",
       "\n",
       "                                                   3   \\\n",
       "name                                      kevon dixon   \n",
       "compas_screening_date                      27/01/2013   \n",
       "sex                                              Male   \n",
       "dob                                        22/01/1982   \n",
       "age                                                34   \n",
       "age_cat                                       25 - 45   \n",
       "race                                 African-American   \n",
       "juv_fel_count                                       0   \n",
       "decile_score                                        3   \n",
       "juv_misd_count                                      0   \n",
       "juv_other_count                                     0   \n",
       "priors_count                                        0   \n",
       "c_jail_in                         2013-01-26 03:45:00   \n",
       "c_jail_out                        2013-02-05 05:36:00   \n",
       "c_days_from_compas                                1.0   \n",
       "c_charge_degree                                  (F3)   \n",
       "c_charge_desc          Felony Battery w/Prior Convict   \n",
       "is_recid                                            1   \n",
       "r_charge_degree                                  (F3)   \n",
       "r_days_from_arrest                                NaN   \n",
       "r_charge_desc             Felony Battery (Dom Strang)   \n",
       "is_violent_recid                                    1   \n",
       "vr_charge_desc            Felony Battery (Dom Strang)   \n",
       "type_of_assessment                 Risk of Recidivism   \n",
       "decile_score.1                                      3   \n",
       "score_text                                        Low   \n",
       "v_type_of_assessment                 Risk of Violence   \n",
       "v_decile_score                                      1   \n",
       "v_score_text                                      Low   \n",
       "in_custody                        2013-01-26 00:00:00   \n",
       "out_custody                       2013-02-05 00:00:00   \n",
       "priors_count.1                                      0   \n",
       "start                                               9   \n",
       "end                                               159   \n",
       "jail_time                            10 days 01:51:00   \n",
       "custody_time                         10 days 00:00:00   \n",
       "\n",
       "                                                4                       9   \\\n",
       "name                                      ed philo             marcu brown   \n",
       "compas_screening_date                   14/04/2013              13/01/2013   \n",
       "sex                                           Male                    Male   \n",
       "dob                                     14/05/1991              21/01/1993   \n",
       "age                                             24                      23   \n",
       "age_cat                               Less than 25            Less than 25   \n",
       "race                              African-American        African-American   \n",
       "juv_fel_count                                    0                       0   \n",
       "decile_score                                     4                       8   \n",
       "juv_misd_count                                   0                       1   \n",
       "juv_other_count                                  1                       0   \n",
       "priors_count                                     4                       1   \n",
       "c_jail_in                      2013-04-13 04:58:00                     NaT   \n",
       "c_jail_out                     2013-04-14 07:02:00                     NaT   \n",
       "c_days_from_compas                             1.0                     1.0   \n",
       "c_charge_degree                               (F3)                    (F3)   \n",
       "c_charge_desc                Possession of Cocaine  Possession of Cannabis   \n",
       "is_recid                                         1                       0   \n",
       "r_charge_degree                               (M1)                     NaN   \n",
       "r_days_from_arrest                             0.0                     NaN   \n",
       "r_charge_desc          Driving Under The Influence                     NaN   \n",
       "is_violent_recid                                 0                       0   \n",
       "vr_charge_desc                                 NaN                     NaN   \n",
       "type_of_assessment              Risk of Recidivism      Risk of Recidivism   \n",
       "decile_score.1                                   4                       8   \n",
       "score_text                                     Low                    High   \n",
       "v_type_of_assessment              Risk of Violence        Risk of Violence   \n",
       "v_decile_score                                   3                       6   \n",
       "v_score_text                                   Low                  Medium   \n",
       "in_custody                     2013-06-16 00:00:00                     NaT   \n",
       "out_custody                    2013-06-16 00:00:00                     NaT   \n",
       "priors_count.1                                   4                       1   \n",
       "start                                            0                       0   \n",
       "end                                             63                    1174   \n",
       "jail_time                          1 days 02:04:00                     NaT   \n",
       "custody_time                       0 days 00:00:00                     NaT   \n",
       "\n",
       "                                          10  \n",
       "name                      bouthy pierrelouis  \n",
       "compas_screening_date             26/03/2013  \n",
       "sex                                     Male  \n",
       "dob                               22/01/1973  \n",
       "age                                       43  \n",
       "age_cat                              25 - 45  \n",
       "race                                   Other  \n",
       "juv_fel_count                              0  \n",
       "decile_score                               1  \n",
       "juv_misd_count                             0  \n",
       "juv_other_count                            0  \n",
       "priors_count                               2  \n",
       "c_jail_in                                NaT  \n",
       "c_jail_out                               NaT  \n",
       "c_days_from_compas                      76.0  \n",
       "c_charge_degree                         (F7)  \n",
       "c_charge_desc          arrest case no charge  \n",
       "is_recid                                   0  \n",
       "r_charge_degree                          NaN  \n",
       "r_days_from_arrest                       NaN  \n",
       "r_charge_desc                            NaN  \n",
       "is_violent_recid                           0  \n",
       "vr_charge_desc                           NaN  \n",
       "type_of_assessment        Risk of Recidivism  \n",
       "decile_score.1                             1  \n",
       "score_text                               Low  \n",
       "v_type_of_assessment        Risk of Violence  \n",
       "v_decile_score                             1  \n",
       "v_score_text                             Low  \n",
       "in_custody                               NaT  \n",
       "out_custody                              NaT  \n",
       "priors_count.1                             2  \n",
       "start                                      0  \n",
       "end                                     1102  \n",
       "jail_time                                NaT  \n",
       "custody_time                             NaT  "
      ]
     },
     "execution_count": 14,
     "metadata": {},
     "output_type": "execute_result"
    }
   ],
   "source": [
    "df_unique_name.head().T"
   ]
  },
  {
   "cell_type": "code",
   "execution_count": 15,
   "id": "adc5094a-5c2b-4408-9655-137db04b0579",
   "metadata": {},
   "outputs": [
    {
     "data": {
      "text/plain": [
       "Index(['name', 'compas_screening_date', 'sex', 'dob', 'age', 'age_cat', 'race',\n",
       "       'juv_fel_count', 'decile_score', 'juv_misd_count', 'juv_other_count',\n",
       "       'priors_count', 'c_jail_in', 'c_jail_out', 'c_days_from_compas',\n",
       "       'c_charge_degree', 'c_charge_desc', 'is_recid', 'r_charge_degree',\n",
       "       'r_days_from_arrest', 'r_charge_desc', 'is_violent_recid',\n",
       "       'vr_charge_desc', 'type_of_assessment', 'decile_score.1', 'score_text',\n",
       "       'v_type_of_assessment', 'v_decile_score', 'v_score_text', 'in_custody',\n",
       "       'out_custody', 'priors_count.1', 'start', 'end', 'jail_time',\n",
       "       'custody_time'],\n",
       "      dtype='object')"
      ]
     },
     "execution_count": 15,
     "metadata": {},
     "output_type": "execute_result"
    }
   ],
   "source": [
    "df_unique_name.columns"
   ]
  },
  {
   "cell_type": "markdown",
   "id": "aa49dd5a-18bb-46e9-9dad-c969103de915",
   "metadata": {},
   "source": [
    "So basically i will be working with the current unique names dataset.\n",
    "\n",
    "If there is any special analysis that is to be carried out, then we creat a csv file or form a table with the available data"
   ]
  },
  {
   "cell_type": "markdown",
   "id": "b2111880-2efc-4eae-b7ec-ca6f3d82dadd",
   "metadata": {},
   "source": [
    "# EDA"
   ]
  },
  {
   "cell_type": "code",
   "execution_count": 16,
   "id": "59c7caec-d8b9-4ea5-b089-3b60c690f732",
   "metadata": {},
   "outputs": [
    {
     "data": {
      "text/plain": [
       "age_cat\n",
       "25 - 45            5811\n",
       "Greater than 45    2264\n",
       "Less than 25       2121\n",
       "Name: count, dtype: int64"
      ]
     },
     "execution_count": 16,
     "metadata": {},
     "output_type": "execute_result"
    }
   ],
   "source": [
    "cat = df_unique_name[\"age_cat\"].value_counts()\n",
    "cat"
   ]
  },
  {
   "cell_type": "markdown",
   "id": "58e5b522-4f29-43d7-b5ac-be57d7a552e0",
   "metadata": {},
   "source": [
    "### From the age category distribution:\n",
    "#### * 5814 are b/w the age of 25 - 45\n",
    "#### * 2271 are greater than 45\n",
    "#### * 2122 are less than 25"
   ]
  },
  {
   "cell_type": "code",
   "execution_count": 17,
   "id": "66a341b3-9ebe-40cd-8cf9-da934551cfd1",
   "metadata": {},
   "outputs": [
    {
     "data": {
      "image/png": "[encoded data removed]",
      "text/plain": [
       "<Figure size 900x500 with 1 Axes>"
      ]
     },
     "metadata": {},
     "output_type": "display_data"
    }
   ],
   "source": [
    "# fig, ax = plt.subplots(figsize = (10, 7))\n",
    "cat = df_unique_name[\"age_cat\"].value_counts()\n",
    "# my_cmap = plt.get_cmap(\"viridis\")\n",
    "bars = cat.plot(kind = \"bar\", color = [\"green\", \"salmon\", \"lightblue\"], figsize = (9,5))\n",
    "plt.legend(bars.containers[0],[\"25-45 years\", \"Greater than 45 years\", \"Less than 25 years of age\"]) \n",
    "plt.title(\"Age Categories of the defendant\", fontsize=15, fontweight='bold')\n",
    "plt.ylabel('Number of Defendants', fontsize=12)\n",
    "# Adding text below the graph\n",
    "plt.figtext(0.5, -0.1, \"From the age category distribution of the graph, we have a greater number of defendant within the age of 25 - 45 \", wrap=True, horizontalalignment='center', fontsize=12)\n",
    "\n",
    "# Adjusting layout to make space for the text\n",
    "plt.tight_layout()"
   ]
  },
  {
   "cell_type": "markdown",
   "id": "94da730a-f790-4df3-a3f0-19fe85c48fe8",
   "metadata": {},
   "source": [
    "While using or comparing more than one column, we use pandas function `crosstab`"
   ]
  },
  {
   "cell_type": "markdown",
   "id": "a0d949da-95f2-472f-b15f-e6913aa92d54",
   "metadata": {},
   "source": [
    "\n",
    "\n",
    "Counting the sex distribution of the defendants"
   ]
  },
  {
   "cell_type": "code",
   "execution_count": 18,
   "id": "be309a85-ad6b-454f-aca7-c365d77fe6c5",
   "metadata": {},
   "outputs": [
    {
     "data": {
      "text/plain": [
       "sex\n",
       "Male      8090\n",
       "Female    2106\n",
       "Name: count, dtype: int64"
      ]
     },
     "execution_count": 18,
     "metadata": {},
     "output_type": "execute_result"
    }
   ],
   "source": [
    "df_unique_name.sex.value_counts()"
   ]
  },
  {
   "cell_type": "code",
   "execution_count": null,
   "id": "e4ec7a0f-e21f-4178-b164-320480f75f56",
   "metadata": {},
   "outputs": [
    {
     "data": {
      "text/plain": [
       "Text(0.5, 1.0, 'Sex distribution of defendants')"
      ]
     },
     "execution_count": 19,
     "metadata": {},
     "output_type": "execute_result"
    }
   ],
   "source": [
    "bar = df_unique_name.sex.value_counts().plot(kind = \"bar\",\n",
    "                                       color = [\"blue\", \"yellow\"])\n",
    "plt.legend(bar.containers[0], [\"Male\", \"Female\"])\n",
    "plt.title(\"Sex distribution of defendants\", fontsize=15, fontweight='bold')\n"
   ]
  },
  {
   "cell_type": "markdown",
   "id": "7d1fa77b-7048-4445-ac1a-dc555485ba45",
   "metadata": {},
   "source": [
    "#### Visualizing the Age categories with sex"
   ]
  },
  {
   "cell_type": "code",
   "execution_count": null,
   "id": "54e6f28a-f7b2-4bf1-b8dd-995f1f92d02f",
   "metadata": {},
   "outputs": [],
   "source": [
    "bars = pd.crosstab(df_unique_name.age_cat, df_unique_name.sex).plot(kind = \"bar\", figsize = (9,5))\n",
    "plt.xlabel(\"Age Category\", fontsize = 15)\n",
    "plt.title(\"Gender / Age_Category distribution\", fontsize = 15, fontweight = \"bold\");\n",
    "\n",
    "for container in bars.containers:\n",
    "    bars.bar_label(container, fmt='%.2f')"
   ]
  },
  {
   "cell_type": "code",
   "execution_count": null,
   "id": "879ba280-b2a9-4a66-9ee0-0f007e2f842b",
   "metadata": {},
   "outputs": [],
   "source": []
  },
  {
   "cell_type": "code",
   "execution_count": null,
   "id": "9c448992-723f-4be4-ad22-de281a2af76f",
   "metadata": {},
   "outputs": [],
   "source": []
  },
  {
   "cell_type": "code",
   "execution_count": null,
   "id": "1840a95e-e1eb-4d3e-aa86-7b1fb5275c31",
   "metadata": {},
   "outputs": [],
   "source": []
  },
  {
   "cell_type": "markdown",
   "id": "66083841-7649-49a6-b10b-f52b109a86b5",
   "metadata": {},
   "source": [
    "#### vizualizing the race distribution of the defendant"
   ]
  },
  {
   "cell_type": "code",
   "execution_count": null,
   "id": "86107889-7dbe-4a47-a771-f97781412a82",
   "metadata": {},
   "outputs": [],
   "source": [
    "df_unique_name.race.value_counts()"
   ]
  },
  {
   "cell_type": "code",
   "execution_count": null,
   "id": "c9c4c7c4-43d4-4c7d-9a09-e1b45701033c",
   "metadata": {},
   "outputs": [],
   "source": [
    "df_unique_name.race.unique()"
   ]
  },
  {
   "cell_type": "code",
   "execution_count": null,
   "id": "6ec621a8-b05b-4b43-9c43-bc1852e96458",
   "metadata": {},
   "outputs": [],
   "source": [
    "# Choose a colormap\n",
    "cmap = plt.get_cmap('tab20c')\n",
    "\n",
    "categories = df_unique_name.race.unique()\n",
    "colors = cmap(np.linspace(0, 1, len(categories)))\n",
    "bar = df_unique_name.race.value_counts().plot(kind = \"bar\", color = colors, figsize = (9, 5))\n",
    "plt.legend(bar.containers[0], ['African-American', 'Caucasian', 'Hispanic', 'other', 'Asian', 'Native American'] );\n",
    "plt.title(\"Race Distribution of the Defendant\", fontsize=15, fontweight='bold')\n",
    "plt.ylabel(\"Number of Defendant\", fontsize=13)\n",
    "for container in bar.containers:\n",
    "    bar.bar_label(container, fmt='%.2f')\n",
    "\n",
    "# plt.yscale('log')"
   ]
  },
  {
   "cell_type": "markdown",
   "id": "7a901c48-3c7d-4f8e-8b13-b880840a7997",
   "metadata": {},
   "source": [
    "#### Visualizing the race by sex"
   ]
  },
  {
   "cell_type": "code",
   "execution_count": null,
   "id": "84fdb2f3-62b1-47f8-8223-a7bcadecb7f4",
   "metadata": {},
   "outputs": [],
   "source": [
    "# using crosstab on sex and race columns\n",
    "pd.crosstab(df_unique_name.sex, df_unique_name.race)"
   ]
  },
  {
   "cell_type": "code",
   "execution_count": null,
   "id": "ca01a447-ecf2-46d6-a7fa-02bcb05fbfce",
   "metadata": {},
   "outputs": [],
   "source": [
    "pd.crosstab(df_unique_name.sex, df_unique_name.race)[:1]"
   ]
  },
  {
   "cell_type": "code",
   "execution_count": null,
   "id": "8ac950c7-e62c-4ac7-a84a-8471a5d0e545",
   "metadata": {},
   "outputs": [],
   "source": [
    "pd.crosstab(df_unique_name.race, df_unique_name.sex).shape"
   ]
  },
  {
   "cell_type": "code",
   "execution_count": null,
   "id": "02104b9b-5733-4856-b3cb-cda6dedb8ea8",
   "metadata": {},
   "outputs": [],
   "source": [
    "c1 = pd.crosstab(df_unique_name.race, df_unique_name.sex).iloc[0:5, [1]]\n",
    "c1"
   ]
  },
  {
   "cell_type": "code",
   "execution_count": null,
   "id": "1764357d-da53-4de6-bb8c-9c44341f5e8e",
   "metadata": {},
   "outputs": [],
   "source": [
    "# getting the percentage scores on the top of the bar graph\n",
    "# having getting the sum to be 7638, we divide each value in the male column with sum in order to get the percentage\n",
    "# creating a new column that have the male precentages\n",
    "male_sum = c1.Male.sum().sum()\n",
    "c1[\"Male_percent\"] = (c1.Male/male_sum * 100)\n",
    "\n",
    "\n",
    "male_sum"
   ]
  },
  {
   "cell_type": "code",
   "execution_count": null,
   "id": "bbb21507-50e3-4954-b1f5-871e8df41d2c",
   "metadata": {},
   "outputs": [],
   "source": []
  },
  {
   "cell_type": "code",
   "execution_count": null,
   "id": "c110c770-2c29-45a1-a237-cf17079a9d96",
   "metadata": {},
   "outputs": [],
   "source": [
    "per = list(c1[\"Male_percent\"])\n",
    "p = []\n",
    "for i in per:\n",
    "    p.append(float(i))\n"
   ]
  },
  {
   "cell_type": "code",
   "execution_count": null,
   "id": "f032fb65-9099-496a-a23e-729f92d3ca38",
   "metadata": {},
   "outputs": [],
   "source": [
    "p = [p]\n",
    "p"
   ]
  },
  {
   "cell_type": "code",
   "execution_count": null,
   "id": "5e12fa26-3be4-453d-8bf0-e40f9d7b3d8d",
   "metadata": {},
   "outputs": [],
   "source": [
    "# male race distribution of defendants \n",
    "# Choose a colormap\n",
    "cmap = plt.get_cmap('tab20c')\n",
    "\n",
    "categories = df_unique_name.race.unique()\n",
    "colors = cmap(np.linspace(0, 1, len(categories)))\n",
    "# pd.crosstab(df_unique_name.race, df_unique_name.sex).iloc[0:5, [1]].plot(kind = \"bar\", color = colors)\n",
    "# g = pd.crosstab(df_unique_name.race, df_unique_name.sex).iloc[0:5, [1]]\n",
    "\n",
    "ploting = pd.crosstab(df_unique_name.race, df_unique_name.sex).iloc[0:5, [1]]\n",
    "bars = ploting.plot(kind = \"bar\", color = colors)\n",
    "\n",
    "plt.title(\" Male Race Distribution of Defendants\", fontsize=15, fontweight='bold')\n",
    "\n",
    "for container, percentage_column in zip(bars.containers, p):\n",
    "    bars.bar_label(container, labels=[f'{x:.2f}%' for x in percentage_column ], label_type='edge')\n",
    "\n",
    "# for container in bars.containers:\n",
    "    # bars.bar_label(container, fmt='%.2f')"
   ]
  },
  {
   "cell_type": "code",
   "execution_count": null,
   "id": "f5b93f25-057e-47a4-8d96-65576c4cc2ee",
   "metadata": {},
   "outputs": [],
   "source": [
    "c2 = pd.crosstab(df_unique_name.race, df_unique_name.sex).iloc[0:5, [0]]\n",
    "c2"
   ]
  },
  {
   "cell_type": "code",
   "execution_count": null,
   "id": "0e2834b4-166b-41da-b71c-a2df9d19cf59",
   "metadata": {},
   "outputs": [],
   "source": [
    "# getting the percentage scores on the top of the bar graph\n",
    "# having getting the sum to be 7638, we divide each value in the male column with sum in order to get the percentage\n",
    "# creating a new column that have the male precentages\n",
    "female_sum = c2.Female.sum().sum()\n",
    "c2[\"female_percent\"] = (c2.Female/female_sum * 100)\n",
    "\n",
    "\n",
    "print (\"race Female summation\", female_sum)\n",
    "\n",
    "\n",
    "fer = list(c2[\"female_percent\"])\n",
    "fe = []\n",
    "for i in fer:\n",
    "    fe.append(float(i))\n"
   ]
  },
  {
   "cell_type": "code",
   "execution_count": null,
   "id": "04251290-ed6b-487f-935a-23954f4cf436",
   "metadata": {},
   "outputs": [],
   "source": [
    "\n",
    "fe = [fe]\n",
    "fe"
   ]
  },
  {
   "cell_type": "code",
   "execution_count": null,
   "id": "2770d5ef-50a7-4a52-a8e4-2af7696d03c0",
   "metadata": {},
   "outputs": [],
   "source": [
    "# female race distribution of defendants \n",
    "\n",
    "# Choose a colormap\n",
    "cmap = plt.get_cmap('tab20c')\n",
    "\n",
    "categories = df_unique_name.race.unique()\n",
    "colors = cmap(np.linspace(0, 1, len(categories)))\n",
    "# pd.crosstab(df_unique_name.race, df_unique_name.sex).iloc[0:5, [1]].plot(kind = \"bar\", color = colors)\n",
    "# g = pd.crosstab(df_unique_name.race, df_unique_name.sex).iloc[0:5, [1]]\n",
    "\n",
    "ploting = pd.crosstab(df_unique_name.race, df_unique_name.sex).iloc[0:5, [0]]\n",
    "bars = ploting.plot(kind = \"bar\", color = colors)\n",
    "\n",
    "plt.title(\" Female Race Distribution of Defendants\", fontsize=15, fontweight='bold')\n",
    "\n",
    "for container, percentage_column in zip(bars.containers, fe):\n",
    "    bars.bar_label(container, labels=[f'{x:.2f}%' for x in percentage_column], label_type='edge')"
   ]
  },
  {
   "cell_type": "markdown",
   "id": "4c9ff17a-22e3-4094-8ad1-8a6629e13946",
   "metadata": {},
   "source": [
    "#### Age_categories and race distribution and gender\n",
    "#### visualizing what age range does a particular race are defendants and of what particular gender "
   ]
  },
  {
   "cell_type": "code",
   "execution_count": null,
   "id": "bec2370a-bc7f-46c8-b838-cc479458fd6b",
   "metadata": {},
   "outputs": [],
   "source": [
    "df_unique_name.age_cat.value_counts()"
   ]
  },
  {
   "cell_type": "code",
   "execution_count": null,
   "id": "d033edb8-461a-4fc3-b359-3d31af74a9f5",
   "metadata": {},
   "outputs": [],
   "source": [
    "# plt.scatter(df_unique_name.race, df_unique_name.age, s = df_unique_name.sex)"
   ]
  },
  {
   "cell_type": "code",
   "execution_count": null,
   "id": "d933b6c5-082d-4757-b24d-826da0bd3d26",
   "metadata": {},
   "outputs": [],
   "source": []
  },
  {
   "cell_type": "code",
   "execution_count": null,
   "id": "d49c2d62-cc07-4b57-85e3-6847c14e85f4",
   "metadata": {},
   "outputs": [],
   "source": [
    "fig, (ax1, ax2) = plt.subplots(nrows = 1,\n",
    "                      ncols = 2,\n",
    "                      figsize = (9, 5))\n",
    "\n",
    "ax1 =(pd.crosstab(df_unique_name.race, df_unique_name.sex).iloc[0:5, [0]])\n"
   ]
  },
  {
   "cell_type": "code",
   "execution_count": null,
   "id": "4e82e2f7-1b07-47a3-8ee1-25ed665123cf",
   "metadata": {},
   "outputs": [],
   "source": [
    "df_unique_name.columns"
   ]
  },
  {
   "cell_type": "markdown",
   "id": "04d243b5-a3a9-4160-9619-828715950c60",
   "metadata": {},
   "source": [
    "# Decile"
   ]
  },
  {
   "cell_type": "markdown",
   "id": "890325b2-ddd6-4961-8d8e-6f70b626e519",
   "metadata": {},
   "source": [
    "#### The Decile score distribution: This Risk score assigned by the COMPAS algorithm, indicating the defendant's perceived risk of recidivism (ranges typically from 1 to 10, with 10 being the highest risk)."
   ]
  },
  {
   "cell_type": "code",
   "execution_count": null,
   "id": "6b007815-7cb9-4104-8abc-a4191fe38594",
   "metadata": {},
   "outputs": [],
   "source": [
    "# visualizing the decile score counts\n",
    "df_unique_name.decile_score.value_counts()"
   ]
  },
  {
   "cell_type": "code",
   "execution_count": null,
   "id": "678e0a4f-780b-4169-a365-ef02158256f5",
   "metadata": {},
   "outputs": [],
   "source": [
    "bars = df_unique_name.decile_score.value_counts().plot(kind = \"bar\", figsize = (15, 5))\n",
    "for container in bars.containers:\n",
    "    bars.bar_label(container, fmt='%.2f')\n",
    "\n",
    "print(\"From the graph below, the score with higest frequency is \",1)"
   ]
  },
  {
   "cell_type": "markdown",
   "id": "2bbc8d08-17fc-4946-9674-a8488c7dcade",
   "metadata": {},
   "source": [
    "#### decile score and race comparision\n"
   ]
  },
  {
   "cell_type": "code",
   "execution_count": null,
   "id": "b74599fe-3b46-42e4-a7aa-4b1eff1f4b8f",
   "metadata": {},
   "outputs": [],
   "source": [
    "bars = pd.crosstab( df_unique_name.decile_score, df_unique_name.race).plot(kind = \"bar\", figsize = (25, 10))\n",
    "tab  = pd.crosstab( df_unique_name.decile_score, df_unique_name.race)\n",
    "for container in bars.containers:\n",
    "    bars.bar_label(container, fmt='%.2f')\n",
    "\n",
    "print(\"From the graph below shows the COMPAS algothirim decile_score with respect to the race\")\n",
    "print(\"From the graph, African-Americans have the most populated having the highest risk of recidivism.\")\n",
    "print(\"and it's ratio as comapre to others races over 3: 1\")\n",
    "print(\"From the graph trend, the race with least risk of recidivism happens to be caucasians, followed by african-american.\")\n",
    "print(\"But as the risk keeps increasing that is tending towards the highest risk, the number of Afriacn-americans keeps increasing\")\n",
    "tab.head()"
   ]
  },
  {
   "cell_type": "code",
   "execution_count": null,
   "id": "935bf413-3855-46ac-b6a5-94d510e86d27",
   "metadata": {},
   "outputs": [],
   "source": [
    "#### since we have crosstab that compares the male and race, let us now plot in target of decile score"
   ]
  },
  {
   "cell_type": "code",
   "execution_count": null,
   "id": "16b2f8d0-f004-4f83-b3d0-2ac8d01f21d2",
   "metadata": {},
   "outputs": [],
   "source": [
    "pd.crosstab(df_unique_name.race,df_unique_name.decile_score)\n",
    "\n",
    "\n",
    "# .iloc[0:5, [1]]\n"
   ]
  },
  {
   "cell_type": "markdown",
   "id": "033290bc-d1c5-411f-a68f-34301b3f8df3",
   "metadata": {},
   "source": [
    "#### Decile_score and the male gender"
   ]
  },
  {
   "cell_type": "code",
   "execution_count": null,
   "id": "e7d849bd-3043-43b6-988c-35c955440dce",
   "metadata": {},
   "outputs": [],
   "source": []
  },
  {
   "cell_type": "code",
   "execution_count": null,
   "id": "e2701efe-3fa7-4bd2-92d0-df48531e267e",
   "metadata": {},
   "outputs": [],
   "source": [
    "# tab = pd.crosstab(df_unique_name.decile_score, df_unique_name.sex).iloc[:, [1]]\n",
    "tab = pd.crosstab(df_unique_name.decile_score, df_unique_name.sex)\n",
    "bars = tab.plot(kind = \"bar\", figsize = (9,5) )\n",
    "\n",
    "for container in bars.containers:\n",
    "    bars.bar_label(container, fmt='%.f')\n",
    "\n",
    "print(\"check the percentage of each decile socre\")"
   ]
  },
  {
   "cell_type": "markdown",
   "id": "f0b2b8d6-14f4-441c-9671-dfcba1ca72bf",
   "metadata": {},
   "source": [
    "#### Decile_score and the female gender"
   ]
  },
  {
   "cell_type": "code",
   "execution_count": null,
   "id": "0e56839b-9417-4cd0-9316-6b17c3f643bc",
   "metadata": {
    "scrolled": true
   },
   "outputs": [],
   "source": [
    "tab = pd.crosstab(df_unique_name.decile_score, df_unique_name.sex).iloc[:, [0]]\n",
    "bars = tab.plot(kind = \"barh\", figsize = (9,5) )\n",
    "\n",
    "for container in bars.containers:\n",
    "    bars.bar_label(container, fmt='%.f')"
   ]
  },
  {
   "cell_type": "markdown",
   "id": "8cef779e-b611-4d14-ac7f-42226fcf0e0f",
   "metadata": {},
   "source": [
    "#### jail_time and race"
   ]
  },
  {
   "cell_type": "code",
   "execution_count": null,
   "id": "c796ae4e-a399-4a5b-8dfd-2b258e494873",
   "metadata": {},
   "outputs": [],
   "source": [
    "df_unique_name.race.value_counts()"
   ]
  },
  {
   "cell_type": "markdown",
   "id": "1f75f49e-c7c4-4765-a398-2291f1099e1b",
   "metadata": {},
   "source": [
    "### Analyze recidivism and decile score by comapas analysis\n",
    "`is_recid` column is a binary column where\n",
    "- 1 = is_recid\n",
    "- 0 = not recid"
   ]
  },
  {
   "cell_type": "code",
   "execution_count": null,
   "id": "a30c3b25-a8bd-471a-8426-731e36b972bd",
   "metadata": {},
   "outputs": [],
   "source": [
    "df_unique_name['is_recid'] = df_unique_name['is_recid'].astype(str)\n",
    "df_unique_name['decile_score'] = df_unique_name['decile_score'].astype(str)\n",
    "\n",
    "selected_col = df_unique_name[[ 'race', 'is_recid', 'decile_score']]\n",
    "\n",
    "# Filter the rows where \"sex\" is \"male\"\n",
    "filtered_df = selected_col[selected_col['decile_score'] == 1]\n",
    "filtered_df = selected_col[selected_col['is_recid'] == \"1\"]\n",
    "\n",
    "\n",
    "s = filtered_df[filtered_df[\"decile_score\"] == \"1\"]\n",
    "s"
   ]
  },
  {
   "cell_type": "code",
   "execution_count": null,
   "id": "885d996b-8e7a-4c03-8160-68000b678405",
   "metadata": {},
   "outputs": [],
   "source": [
    "for container in bars.containers:\n",
    "    print (container)"
   ]
  },
  {
   "cell_type": "code",
   "execution_count": null,
   "id": "30cb0382-b1fe-4f60-a1e5-00e56b67076c",
   "metadata": {},
   "outputs": [],
   "source": [
    "# crosstab and normalize to get the percentage\n",
    "crosstab = pd.crosstab(s.decile_score, s.race, normalize = 'index') * 100\n",
    "\n",
    "# plot the bar graph\n",
    "bars = crosstab.plot(kind = \"bar\", figsize = (9, 6))\n",
    "\n",
    "\n",
    "plt.title(\"Race Distribution of race \\n decile_score = 1 \\n is_recid = 1\", fontweight = \"bold\", fontsize = 10)\n",
    "\n",
    "for container in bars.containers:\n",
    "    bars.bar_label(container, fmt='%.1f%%', label_type='edge')"
   ]
  },
  {
   "cell_type": "code",
   "execution_count": null,
   "id": "bf27639e-17b6-492e-9747-e361fec36cac",
   "metadata": {},
   "outputs": [],
   "source": []
  },
  {
   "cell_type": "code",
   "execution_count": null,
   "id": "126d6ac0-c375-4e00-907b-2f70dbf598fd",
   "metadata": {},
   "outputs": [],
   "source": [
    "df_unique_name['is_recid'] = df_unique_name['is_recid'].astype(str)\n",
    "df_unique_name['decile_score'] = df_unique_name['decile_score'].astype(str)\n",
    "\n",
    "selected_col = df_unique_name[[ 'race', 'is_recid', 'decile_score']]\n",
    "\n",
    "# Filter the rows where \"sex\" is \"male\"\n",
    "filtered_df = selected_col[selected_col['decile_score'] == 1]\n",
    "filtered_df = selected_col[selected_col['is_recid'] == \"0\"]\n",
    "\n",
    "\n",
    "s = filtered_df[filtered_df[\"decile_score\"] == \"1\"]\n",
    "s\n"
   ]
  },
  {
   "cell_type": "code",
   "execution_count": null,
   "id": "8c5ccb3b-21d9-4b79-9127-5d9e07e2e760",
   "metadata": {},
   "outputs": [],
   "source": [
    "# crosstab and normalize to get the percentage\n",
    "crosstab = pd.crosstab(s.decile_score, s.race, normalize = 'index') * 100\n",
    "\n",
    "# plot the bar graph\n",
    "bars = crosstab.plot(kind = \"bar\", figsize = (9, 6), width = 0.8)\n",
    "\n",
    "\n",
    "plt.title(\"Race Distribution of race \\n decile_score = 1 \\n is_recid = 0\", fontweight = \"bold\", fontsize = 10)\n",
    "plt.xlabel(\"Decile score = 1\", fontweight = \"bold\", fontsize = 13)\n",
    "plt.ylabel(\"Percentage %\", fontweight = \"bold\", fontsize = 12)\n",
    "for container in bars.containers:\n",
    "    bars.bar_label(container, fmt='%.1f%%', label_type='edge')"
   ]
  },
  {
   "cell_type": "code",
   "execution_count": null,
   "id": "655c9750-600a-42b4-a78b-393346ef4120",
   "metadata": {},
   "outputs": [],
   "source": []
  },
  {
   "cell_type": "code",
   "execution_count": null,
   "id": "0e942f46-c4b5-444c-8062-e676e1c714a1",
   "metadata": {},
   "outputs": [],
   "source": [
    "df_unique_name['is_recid'] = df_unique_name['is_recid'].astype(str)\n",
    "df_unique_name['decile_score'] = df_unique_name['decile_score'].astype(str)\n",
    "\n",
    "selected_col = df_unique_name[[ 'race', 'is_recid', 'decile_score']]\n",
    "\n",
    "# Filter the rows where \"sex\" is \"male\"\n",
    "filtered_df = selected_col[selected_col['decile_score'] == 10]\n",
    "filtered_df = selected_col[selected_col['is_recid'] == \"1\"]\n",
    "\n",
    "\n",
    "s = filtered_df[filtered_df[\"decile_score\"] == \"10\"]\n",
    "s\n"
   ]
  },
  {
   "cell_type": "code",
   "execution_count": null,
   "id": "0db36e05-e6c1-4af7-a16f-6080f2c3dbe5",
   "metadata": {},
   "outputs": [],
   "source": [
    "# crosstab and normalize to get the percentage\n",
    "crosstab = pd.crosstab(s.decile_score, s.race, normalize = 'index') * 100\n",
    "\n",
    "# plot the bar graph\n",
    "bars = crosstab.plot(kind = \"bar\", figsize = (9, 6), width = 0.8)\n",
    "\n",
    "\n",
    "plt.title(\"Race Distribution of race \\n decile_score = 10 \\n is_recid = 1\", fontweight = \"bold\", fontsize = 10)\n",
    "plt.xlabel(\"Decile score = 1\", fontweight = \"bold\", fontsize = 13)\n",
    "plt.ylabel(\"Percentage %\", fontweight = \"bold\", fontsize = 12)\n",
    "for container in bars.containers:\n",
    "    bars.bar_label(container, fmt='%.1f%%', label_type='edge')"
   ]
  },
  {
   "cell_type": "code",
   "execution_count": null,
   "id": "c0d31542-c874-4b81-b469-b95e2e5590de",
   "metadata": {},
   "outputs": [],
   "source": []
  },
  {
   "cell_type": "code",
   "execution_count": null,
   "id": "bdffa7f5-2e7c-4898-bd89-bbc008d0c452",
   "metadata": {},
   "outputs": [],
   "source": []
  },
  {
   "cell_type": "code",
   "execution_count": null,
   "id": "97e55e4f-b960-4095-869c-82c7f39528e6",
   "metadata": {},
   "outputs": [],
   "source": []
  },
  {
   "cell_type": "code",
   "execution_count": null,
   "id": "0f31b7b1-363c-4d69-9dcd-69912a976ac6",
   "metadata": {},
   "outputs": [],
   "source": []
  },
  {
   "cell_type": "code",
   "execution_count": null,
   "id": "85970168-e1b5-4d39-b64c-950a05ab88c7",
   "metadata": {},
   "outputs": [],
   "source": []
  },
  {
   "cell_type": "code",
   "execution_count": null,
   "id": "c55e99f0-8440-47ba-8e6b-0c318445c3be",
   "metadata": {},
   "outputs": [],
   "source": [
    "bars = pd.crosstab(df_unique_name.decile_score, df_unique_name.is_recid).plot(kind = \"bar\", figsize = (15,5))\n",
    "for container in bars.containers:\n",
    "    bars.bar_label(container, fmt='%.f')\n",
    "\n",
    "print (\"despite a decile score of 1 being the lowest, yet we have defendants that have 'is_recid' score of 1\")"
   ]
  },
  {
   "cell_type": "markdown",
   "id": "4b79ed14-906c-45a1-9f8d-ceae2a0d1923",
   "metadata": {},
   "source": [
    "### checking the race that have `is_racile` score of 1 "
   ]
  },
  {
   "cell_type": "code",
   "execution_count": null,
   "id": "48edfa58-631c-4797-92c0-72ea15594d22",
   "metadata": {},
   "outputs": [],
   "source": [
    "bars = pd.crosstab(df_unique_name.race, df_unique_name.is_recid).plot(kind = \"bar\", color = [\"blue\", \"yellow\"],\n",
    "                                                              figsize = (9,5))\n",
    "\n",
    "plt.xlabel(\"Race\", fontsize=15, fontweight='bold')\n",
    "plt.ylabel(\"Number of defendants\", fontsize=15, fontweight='bold')\n",
    "plt.title(\"Recidivism and race distribution\", fontsize=25, fontweight='bold')\n",
    "\n",
    "for container in bars.containers:\n",
    "    bars.bar_label(container, fmt='%.f')"
   ]
  },
  {
   "cell_type": "code",
   "execution_count": null,
   "id": "3070df52-d346-4c0c-8afb-1db81468c216",
   "metadata": {},
   "outputs": [],
   "source": [
    "pd.crosstab(df_unique_name.race, df_unique_name.is_recid)"
   ]
  },
  {
   "cell_type": "code",
   "execution_count": null,
   "id": "1e9a936b-95c5-43f7-9ac3-4bac806928ba",
   "metadata": {},
   "outputs": [],
   "source": [
    "b = pd.crosstab(df_unique_name.race, df_unique_name.sex).iloc[0:5, [1]]\n",
    "b"
   ]
  },
  {
   "cell_type": "markdown",
   "id": "a1bdfd08-a18e-4f9d-8203-cd3358f22f76",
   "metadata": {},
   "source": [
    "### Analyzing a count plot to show the distribution of `race` for `males` compared to `is_recid`"
   ]
  },
  {
   "cell_type": "code",
   "execution_count": null,
   "id": "2e8ccd13-594f-42e6-b06f-a6059889cb63",
   "metadata": {},
   "outputs": [],
   "source": [
    "df_unique_name['is_recid'] = df['is_recid'].astype(str)\n",
    "\n",
    "selected_col = df_unique_name[['sex', 'race', 'is_recid']]\n",
    "\n",
    "# Filter the rows where \"sex\" is \"male\"\n",
    "filtered_df = selected_col[selected_col['sex'] == 'Male']\n",
    "\n",
    "filtered_df"
   ]
  },
  {
   "cell_type": "code",
   "execution_count": null,
   "id": "7f77e04e-e6b4-4502-8d94-060bac5b01f8",
   "metadata": {},
   "outputs": [],
   "source": [
    "# Set up the plot\n",
    "plt.figure(figsize=(10, 6))\n",
    "\n",
    "# Create a count plot\n",
    "bars = sns.countplot(data=filtered_df, x='race', hue='is_recid');\n",
    "plt.title(\"Distribution of race for males compared to is_recid\", fontsize = 15, fontweight = \"bold\")\n",
    "plt.xlabel(\"Race\", fontweight = \"bold\")\n",
    "plt.ylabel(\"Count\", fontweight = \"bold\")\n",
    "plt.xticks(fontstyle='italic')\n",
    "for container in bars.containers:\n",
    "    bars.bar_label(container, fmt='%.f')"
   ]
  },
  {
   "cell_type": "code",
   "execution_count": null,
   "id": "57172f11-434f-4396-aa2b-b4de717cebeb",
   "metadata": {},
   "outputs": [],
   "source": []
  },
  {
   "cell_type": "markdown",
   "id": "c06c11f0-d83d-41b1-b77d-7c9d2243443c",
   "metadata": {},
   "source": [
    "### Analyzing a count plot to show the distribution of `race` for `females` compared to `is_recid`"
   ]
  },
  {
   "cell_type": "code",
   "execution_count": null,
   "id": "cd92869b-a007-465f-ae22-1878e34649d6",
   "metadata": {},
   "outputs": [],
   "source": [
    "df_unique_name['is_recid'] = df['is_recid'].astype(str)\n",
    "\n",
    "selected_col = df_unique_name[['sex', 'race', 'is_recid']]\n",
    "\n",
    "# Filter the rows where \"sex\" is \"male\"\n",
    "filtered_df = selected_col[selected_col['sex'] == 'Female']\n",
    "\n",
    "filtered_df"
   ]
  },
  {
   "cell_type": "code",
   "execution_count": null,
   "id": "6d2d2d95-b685-48bd-bed7-aa6d2e61e569",
   "metadata": {},
   "outputs": [],
   "source": [
    "# Set up the plot\n",
    "plt.figure(figsize=(10, 6))\n",
    "\n",
    "# Create a count plot\n",
    "bars = sns.countplot(data=filtered_df, x='race', hue='is_recid');\n",
    "plt.title(\"Distribution of race for Females compared to is_recid\", fontsize = 15, fontweight = \"bold\")\n",
    "plt.xlabel(\"Race\", fontweight = \"bold\")\n",
    "plt.ylabel(\"Count\", fontweight = \"bold\")\n",
    "plt.xticks(fontstyle='italic')\n",
    "for container in bars.containers:\n",
    "    bars.bar_label(container, fmt='%.f')"
   ]
  },
  {
   "cell_type": "code",
   "execution_count": null,
   "id": "6ed8e138-3c77-4a3d-b6ae-2df7cbb6e7a4",
   "metadata": {},
   "outputs": [],
   "source": []
  },
  {
   "cell_type": "markdown",
   "id": "a806e7d9-9ef3-4f08-be4a-a57dc5c7d087",
   "metadata": {},
   "source": [
    "### filtering `male` that are `is_recid = 1` to know their `decile_score` and `race`"
   ]
  },
  {
   "cell_type": "code",
   "execution_count": null,
   "id": "7fc8e036-8cc8-4f98-b999-020b0b7b076f",
   "metadata": {},
   "outputs": [],
   "source": [
    "sorted_decile = sorted(df_unique_name['decile_score'].unique())\n",
    "sorted_decile = list(map(str, sorted_decile))\n",
    "sorted_decile"
   ]
  },
  {
   "cell_type": "code",
   "execution_count": null,
   "id": "be583b16-4f7c-4756-b1b2-e0ee220b2207",
   "metadata": {},
   "outputs": [],
   "source": [
    "# sdafsg\n",
    "# sorted_decile = sorted(df_unique_name['decile_score'].unique().astype(str))\n",
    "\n",
    "\n",
    "df_unique_name['is_recid'] = df_unique_name['is_recid'].astype(str)\n",
    "df_unique_name['decile_score'] = df_unique_name['decile_score'].astype(str)\n",
    "\n",
    "selected_col = df_unique_name[['sex', 'race', 'is_recid', 'decile_score']]\n",
    "\n",
    "# Filter the rows where \"sex\" is \"male\"\n",
    "filtered_df = selected_col[selected_col['sex'] == 'Male']\n",
    "filtered_df = selected_col[selected_col['is_recid'] == \"1\"]\n",
    "\n",
    "\n",
    "filtered_df"
   ]
  },
  {
   "cell_type": "code",
   "execution_count": null,
   "id": "49c978e9-210a-4eaa-81aa-b0418de3b4c0",
   "metadata": {},
   "outputs": [],
   "source": [
    " sorted_decile\n"
   ]
  },
  {
   "cell_type": "code",
   "execution_count": null,
   "id": "008a0f85-6714-4c06-a89d-3a45f9643dc9",
   "metadata": {},
   "outputs": [],
   "source": [
    "plt.figure(figsize=(20, 6))\n",
    "# Determine the unique values in 'decile_score' and sort them\n",
    "# sorted_decile = sorted(df_unique_name['decile_score'].unique())\n",
    "\n",
    "# Create a count plot with \"race\" on x-axis and hue as \"is_recid\"\n",
    "bars = sns.countplot(data=filtered_df, x='decile_score', hue='race', order = sorted_decile )\n",
    "\n",
    "# Make x-axis labels italic\n",
    "plt.xticks(fontstyle='italic')\n",
    "\n",
    "# Set plot title and labels\n",
    "plt.title('Distribution of Race for Males that are analyzed by COMPAS to have recidivism as Compared to decile_score \\n Note: sex = \"male\"\\n is_recid = 1', \n",
    "         fontweight = \"bold\", fontsize = 20)\n",
    "plt.xlabel('Decile_score', fontweight = \"bold\", \n",
    "           fontsize = 20\n",
    "          )\n",
    "plt.ylabel('Count', fontweight = \"bold\" ,fontsize = 15)\n",
    "\n",
    "for container in bars.containers:\n",
    "    bars.bar_label(container, fmt='%.f')\n",
    "\n",
    "print(\"Despite having a lower decile score from the range of 1 to 4, African American male defendants were analyzed to be recidivated\")"
   ]
  },
  {
   "cell_type": "code",
   "execution_count": null,
   "id": "7fa25ec7-f7d1-4da3-a509-65089675cd0a",
   "metadata": {},
   "outputs": [],
   "source": []
  },
  {
   "cell_type": "markdown",
   "id": "1323ada1-55c0-4370-8a63-999c8ca19281",
   "metadata": {},
   "source": [
    "### filtering `male` that are `is_recid = 0` to know their `decile_score` and `race`"
   ]
  },
  {
   "cell_type": "code",
   "execution_count": null,
   "id": "a49b75a9-437d-43c5-ac9d-bacc0e721076",
   "metadata": {},
   "outputs": [],
   "source": [
    "df_unique_name['is_recid'] = df_unique_name['is_recid'].astype(str)\n",
    "df_unique_name['decile_score'] = df_unique_name['decile_score'].astype(str)\n",
    "\n",
    "selected_col = df_unique_name[['sex', 'race', 'is_recid', 'decile_score']]\n",
    "\n",
    "# Filter the rows where \"sex\" is \"male\"\n",
    "filtered_df = selected_col[selected_col['sex'] == 'Male']\n",
    "filtered_df = selected_col[selected_col['is_recid'] == \"0\"]\n",
    "\n",
    "\n",
    "filtered_df"
   ]
  },
  {
   "cell_type": "markdown",
   "id": "4260a835-fd4b-46f9-b8de-71fd6f394cdd",
   "metadata": {},
   "source": [
    "### get back to the next cell below when you are done creating the plots"
   ]
  },
  {
   "cell_type": "code",
   "execution_count": null,
   "id": "e63bd34c-06ba-4eaf-b764-916b8ade90c4",
   "metadata": {},
   "outputs": [],
   "source": [
    "# pd.crosstab(filtered_df.decile_score, filtered_df.race).plot(kind = \"bar\", figsize = (20, 5))"
   ]
  },
  {
   "cell_type": "code",
   "execution_count": null,
   "id": "1798993c-fde0-4f13-a3ba-86d8f07c741a",
   "metadata": {},
   "outputs": [],
   "source": [
    "plt.figure(figsize=(20, 6))\n",
    "# Determine the unique values in 'decile_score' and sort them\n",
    "# sorted_decile = sorted(filtered_df['decile_score'].unique())\n",
    "\n",
    "\n",
    "# Create a count plot with \"race\" on x-axis and hue as \"is_recid\"\n",
    "bars = sns.countplot(data=filtered_df, x='decile_score', hue='race', order=sorted_decile)\n",
    "# df_unique_name.sex.value_counts(\n",
    "# Make x-axis labels italic\n",
    "plt.xticks(fontstyle='italic')\n",
    "\n",
    "# Set plot title and labels\n",
    "plt.title('Distribution of Race for Males that are analyzed by COMPAS to have recidivism as Compared to decile_score \\n Note: sex = \"male\"\\n is_recid = 0', \n",
    "         fontweight = \"bold\", fontsize = 20)\n",
    "plt.xlabel('Decile_score', fontweight = \"bold\", \n",
    "           fontsize = 20\n",
    "          )\n",
    "plt.ylabel('Count', fontweight = \"bold\" ,fontsize = 15)\n",
    "\n",
    "for container in bars.containers:\n",
    "    bars.bar_label(container, fmt='%.f')\n",
    "\n",
    "# print(\"Despite having a lower decile score from the range of 1 to 4, African American male defendants were analyzed to be recidivated\")"
   ]
  },
  {
   "cell_type": "code",
   "execution_count": null,
   "id": "263d2a1e-c3ee-4b6a-a472-faa11fe1968a",
   "metadata": {},
   "outputs": [],
   "source": []
  }
 ],
 "metadata": {
  "kernelspec": {
   "display_name": "Python 3 (ipykernel)",
   "language": "python",
   "name": "python3"
  },
  "language_info": {
   "codemirror_mode": {
    "name": "ipython",
    "version": 3
   },
   "file_extension": ".py",
   "mimetype": "text/x-python",
   "name": "python",
   "nbconvert_exporter": "python",
   "pygments_lexer": "ipython3",
   "version": "3.11.7"
  }
 },
 "nbformat": 4,
 "nbformat_minor": 5
}
